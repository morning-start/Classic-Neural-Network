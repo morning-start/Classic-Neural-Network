{
 "cells": [
  {
   "cell_type": "code",
   "execution_count": null,
   "metadata": {},
   "outputs": [],
   "source": [
    "import torch\n",
    "import torch.nn as nn\n",
    "from torch import optim\n",
    "from torch.utils.data import DataLoader, Subset\n",
    "from torchvision import datasets, transforms\n",
    "\n",
    "from model.CNNs.AlexNet import AlexNet\n",
    "from utils.Net import UtilNet\n",
    "import numpy as np"
   ]
  },
  {
   "cell_type": "code",
   "execution_count": null,
   "metadata": {},
   "outputs": [],
   "source": [
    "# 查看网络结构\n",
    "print(AlexNet())"
   ]
  },
  {
   "cell_type": "code",
   "execution_count": null,
   "metadata": {},
   "outputs": [],
   "source": [
    "# 准备数据\n",
    "batch_size = 128\n",
    "num_workers = 4\n",
    "\n",
    "\n",
    "trans = transforms.Compose([transforms.Resize(224), transforms.ToTensor()])\n",
    "\n",
    "# 加载完整的数据集\n",
    "train_dataset = datasets.FashionMNIST(\n",
    "    root=\"./data\", train=True, download=True, transform=trans\n",
    ")\n",
    "test_dataset = datasets.FashionMNIST(\n",
    "    root=\"./data\", train=False, download=True, transform=trans\n",
    ")\n",
    "\n",
    "# 创建DataLoader\n",
    "batch_size = 64  # 你可以根据需要调整batch_size\n",
    "train_loader = DataLoader(\n",
    "    dataset=train_dataset, batch_size=batch_size, num_workers=4, shuffle=True\n",
    ")\n",
    "test_loader = DataLoader(\n",
    "    dataset=test_dataset, batch_size=batch_size, num_workers=4, shuffle=False\n",
    ")"
   ]
  },
  {
   "cell_type": "code",
   "execution_count": null,
   "metadata": {},
   "outputs": [],
   "source": [
    "# 训练模型\n",
    "device = torch.device(\"cuda\" if torch.cuda.is_available() else \"cpu\")\n",
    "# import torch_directml\n",
    "# device= torch_directml.device()\n",
    "model = AlexNet(10).to(device)\n",
    "criterion = nn.CrossEntropyLoss()\n",
    "optimizer = optim.SGD(model.parameters(), lr=0.01)"
   ]
  },
  {
   "cell_type": "code",
   "execution_count": null,
   "metadata": {},
   "outputs": [],
   "source": [
    "from utils.metrics import accuracy\n",
    "\n",
    "metrics = {accuracy.__name__: accuracy}\n",
    "\n",
    "net = UtilNet(model=AlexNet(), device=device)"
   ]
  },
  {
   "cell_type": "code",
   "execution_count": null,
   "metadata": {},
   "outputs": [],
   "source": [
    "net.train(train_loader, optimizer, criterion, 10)\n",
    "net.history"
   ]
  },
  {
   "cell_type": "code",
   "execution_count": null,
   "metadata": {},
   "outputs": [],
   "source": [
    "net.test(test_loader)\n",
    "net.metrics_results"
   ]
  }
 ],
 "metadata": {
  "kernelspec": {
   "display_name": "h-lab",
   "language": "python",
   "name": "python3"
  },
  "language_info": {
   "codemirror_mode": {
    "name": "ipython",
    "version": 3
   },
   "file_extension": ".py",
   "mimetype": "text/x-python",
   "name": "python",
   "nbconvert_exporter": "python",
   "pygments_lexer": "ipython3",
   "version": "3.12.3"
  }
 },
 "nbformat": 4,
 "nbformat_minor": 2
}
