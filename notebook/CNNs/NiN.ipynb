{
 "cells": [
  {
   "cell_type": "code",
   "execution_count": 1,
   "metadata": {},
   "outputs": [
    {
     "name": "stdout",
     "output_type": "stream",
     "text": [
      "NiN(\n",
      "  (net): Sequential(\n",
      "    (0): NiNBlock(\n",
      "      (net): Sequential(\n",
      "        (0): Conv2d(1, 96, kernel_size=(11, 11), stride=(4, 4))\n",
      "        (1): ReLU()\n",
      "        (2): Conv2d(96, 96, kernel_size=(1, 1), stride=(1, 1))\n",
      "        (3): ReLU()\n",
      "        (4): Conv2d(96, 96, kernel_size=(1, 1), stride=(1, 1))\n",
      "        (5): ReLU()\n",
      "      )\n",
      "    )\n",
      "    (1): MaxPool2d(kernel_size=3, stride=2, padding=0, dilation=1, ceil_mode=False)\n",
      "    (2): NiNBlock(\n",
      "      (net): Sequential(\n",
      "        (0): Conv2d(96, 256, kernel_size=(5, 5), stride=(1, 1), padding=(2, 2))\n",
      "        (1): ReLU()\n",
      "        (2): Conv2d(256, 256, kernel_size=(1, 1), stride=(1, 1))\n",
      "        (3): ReLU()\n",
      "        (4): Conv2d(256, 256, kernel_size=(1, 1), stride=(1, 1))\n",
      "        (5): ReLU()\n",
      "      )\n",
      "    )\n",
      "    (3): MaxPool2d(kernel_size=3, stride=2, padding=0, dilation=1, ceil_mode=False)\n",
      "    (4): NiNBlock(\n",
      "      (net): Sequential(\n",
      "        (0): Conv2d(256, 384, kernel_size=(3, 3), stride=(1, 1), padding=(1, 1))\n",
      "        (1): ReLU()\n",
      "        (2): Conv2d(384, 384, kernel_size=(1, 1), stride=(1, 1))\n",
      "        (3): ReLU()\n",
      "        (4): Conv2d(384, 384, kernel_size=(1, 1), stride=(1, 1))\n",
      "        (5): ReLU()\n",
      "      )\n",
      "    )\n",
      "    (5): MaxPool2d(kernel_size=3, stride=2, padding=0, dilation=1, ceil_mode=False)\n",
      "    (6): Dropout(p=0.5, inplace=False)\n",
      "    (7): NiNBlock(\n",
      "      (net): Sequential(\n",
      "        (0): Conv2d(384, 10, kernel_size=(3, 3), stride=(1, 1), padding=(1, 1))\n",
      "        (1): ReLU()\n",
      "        (2): Conv2d(10, 10, kernel_size=(1, 1), stride=(1, 1))\n",
      "        (3): ReLU()\n",
      "        (4): Conv2d(10, 10, kernel_size=(1, 1), stride=(1, 1))\n",
      "        (5): ReLU()\n",
      "      )\n",
      "    )\n",
      "    (8): AdaptiveAvgPool2d(output_size=(1, 1))\n",
      "    (9): Flatten(start_dim=1, end_dim=-1)\n",
      "  )\n",
      ")\n"
     ]
    }
   ],
   "source": [
    "from model.CNNs.NiN import NiN\n",
    "\n",
    "nin = NiN(1, 10)\n",
    "\n",
    "print(nin)"
   ]
  },
  {
   "cell_type": "code",
   "execution_count": null,
   "metadata": {},
   "outputs": [],
   "source": [
    "lr, num_epochs, batch_size = 0.1, 10, 128"
   ]
  },
  {
   "cell_type": "code",
   "execution_count": null,
   "metadata": {},
   "outputs": [],
   "source": [
    "from torch.utils.data import DataLoader\n",
    "from torchvision import datasets, transforms\n",
    "\n",
    "# 准备数据\n",
    "\n",
    "trans = transforms.Compose([transforms.Resize(224), transforms.ToTensor()])\n",
    "\n",
    "# 加载完整的数据集\n",
    "train_dataset = datasets.FashionMNIST(\n",
    "    root=\"./data\", train=True, download=True, transform=trans\n",
    ")\n",
    "test_dataset = datasets.FashionMNIST(\n",
    "    root=\"./data\", train=False, download=True, transform=trans\n",
    ")\n",
    "\n",
    "# 创建DataLoader\n",
    "batch_size = 64  # 你可以根据需要调整batch_size\n",
    "train_loader = DataLoader(\n",
    "    dataset=train_dataset, batch_size=batch_size, num_workers=4, shuffle=True\n",
    ")\n",
    "test_loader = DataLoader(\n",
    "    dataset=test_dataset, batch_size=batch_size, num_workers=4, shuffle=False\n",
    ")"
   ]
  },
  {
   "cell_type": "code",
   "execution_count": null,
   "metadata": {},
   "outputs": [],
   "source": [
    "import torch\n",
    "import torch.nn as nn\n",
    "from torch import optim\n",
    "\n",
    "device = torch.device(\"cuda\" if torch.cuda.is_available() else \"cpu\")\n",
    "\n",
    "model = nin.to(device)\n",
    "criterion = nn.CrossEntropyLoss()\n",
    "optimizer = optim.SGD(model.parameters(), lr=lr)"
   ]
  },
  {
   "cell_type": "code",
   "execution_count": null,
   "metadata": {},
   "outputs": [],
   "source": [
    "from utils.Net import UtilNet\n",
    "net = UtilNet(model=model, device=device)\n"
   ]
  },
  {
   "cell_type": "code",
   "execution_count": null,
   "metadata": {},
   "outputs": [],
   "source": [
    "net.train(train_loader, optimizer, criterion, 10)\n",
    "net.history"
   ]
  },
  {
   "cell_type": "code",
   "execution_count": null,
   "metadata": {},
   "outputs": [],
   "source": [
    "net.test(test_loader)\n",
    "net.metrics_results"
   ]
  }
 ],
 "metadata": {
  "kernelspec": {
   "display_name": "h-lab",
   "language": "python",
   "name": "python3"
  },
  "language_info": {
   "codemirror_mode": {
    "name": "ipython",
    "version": 3
   },
   "file_extension": ".py",
   "mimetype": "text/x-python",
   "name": "python",
   "nbconvert_exporter": "python",
   "pygments_lexer": "ipython3",
   "version": "3.11.9"
  }
 },
 "nbformat": 4,
 "nbformat_minor": 2
}
